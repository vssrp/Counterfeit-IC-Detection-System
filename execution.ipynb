{
  "cells": [
    {
      "cell_type": "markdown",
      "metadata": {
        "id": "0IRpnHXLy79F"
      },
      "source": [
        "### Model Execution on test set"
      ]
    },
    {
      "cell_type": "code",
      "execution_count": 1,
      "metadata": {
        "id": "L5uMwXDXy79H"
      },
      "outputs": [],
      "source": [
        "import cv2\n",
        "import os\n",
        "import matplotlib.pyplot as plt\n",
        "import torch\n",
        "import torch.nn as nn\n",
        "import torchvision.transforms as transforms\n",
        "from sklearn.metrics import classification_report\n",
        "from sklearn.metrics import confusion_matrix\n",
        "import seaborn as sns"
      ]
    },
    {
      "cell_type": "code",
      "execution_count": 2,
      "metadata": {
        "colab": {
          "base_uri": "https://localhost:8080/"
        },
        "id": "bThMSuumy79I",
        "outputId": "a690f58d-6c05-439b-d1e1-120cd7dd0d08"
      },
      "outputs": [
        {
          "output_type": "stream",
          "name": "stdout",
          "text": [
            "Mounted at /content/drive\n"
          ]
        }
      ],
      "source": [
        "from google.colab import drive\n",
        "drive.mount('/content/drive')"
      ]
    },
    {
      "cell_type": "code",
      "execution_count": 3,
      "metadata": {
        "id": "M5tF3pLTy79I"
      },
      "outputs": [],
      "source": [
        "# proposed model\n",
        "\n",
        "class CNN(nn.Module):\n",
        "    def __init__(self, kernel_size = 3, stride = 1):\n",
        "        super().__init__()\n",
        "        self.conv_layers = nn.Sequential(\n",
        "            # Conv layer 1\n",
        "            nn.Conv2d(in_channels=3, out_channels=16, kernel_size=kernel_size, padding=1, stride=stride),\n",
        "            nn.BatchNorm2d(16),\n",
        "            nn.ReLU(inplace=True),\n",
        "            nn.MaxPool2d(2, 2),\n",
        "            # Conv layer 2\n",
        "            nn.Conv2d(in_channels=16, out_channels=16, kernel_size=kernel_size, padding=1, stride=stride),\n",
        "            nn.BatchNorm2d(16),\n",
        "            nn.ReLU(inplace=True),\n",
        "            nn.MaxPool2d(2, 2),\n",
        "            # Conv layer 3\n",
        "            nn.Conv2d(in_channels=16, out_channels=32, kernel_size=kernel_size, padding=1, stride=stride),\n",
        "            nn.BatchNorm2d(32),\n",
        "            nn.ReLU(inplace=True),\n",
        "            nn.MaxPool2d(2, 2),\n",
        "            # Conv layer 4\n",
        "            nn.Conv2d(in_channels=32, out_channels=64, kernel_size=kernel_size, padding=1, stride=stride),\n",
        "            nn.BatchNorm2d(64),\n",
        "            nn.ReLU(inplace=True),\n",
        "            nn.MaxPool2d(2, 2),\n",
        "            # Conv layer 5\n",
        "            nn.Conv2d(in_channels=64, out_channels=128, kernel_size=kernel_size, padding=1, stride=stride),\n",
        "            nn.BatchNorm2d(128),\n",
        "            nn.ReLU(inplace=True),\n",
        "            nn.MaxPool2d(2, 2),\n",
        "            # Conv layer 6\n",
        "            nn.Conv2d(in_channels=128, out_channels=256, kernel_size=kernel_size, padding=1, stride=stride),\n",
        "            nn.BatchNorm2d(256),\n",
        "            nn.ReLU(inplace=True),\n",
        "            nn.MaxPool2d(2, 2),\n",
        "            # Conv layer 7\n",
        "            nn.Conv2d(in_channels=256, out_channels=512, kernel_size=kernel_size, padding=1, stride=stride),\n",
        "            nn.BatchNorm2d(512),\n",
        "            nn.ReLU(inplace=True),\n",
        "            nn.MaxPool2d(2, 2),\n",
        "        )\n",
        "        self.flatten = nn.Flatten()\n",
        "        self.fc_layers = nn.Sequential(\n",
        "            nn.Linear(in_features=17920, out_features=2048),\n",
        "            nn.Linear(in_features=2048, out_features=2048),\n",
        "            nn.Linear(in_features=2048, out_features=1000),\n",
        "            nn.Linear(in_features=1000, out_features=2)\n",
        "        )\n",
        "\n",
        "    def forward(self, x):\n",
        "      x = self.conv_layers(x)\n",
        "      x = self.flatten(x)\n",
        "      out = self.fc_layers(x)\n",
        "      return out"
      ]
    },
    {
      "cell_type": "code",
      "source": [
        "if torch.cuda.is_available():\n",
        "    device = torch.device(\"cuda\")\n",
        "elif torch.backends.mps.is_available():\n",
        "    device = torch.device(\"mps\")\n",
        "else:\n",
        "    device = torch.device(\"cpu\")"
      ],
      "metadata": {
        "id": "Z7WVOzAa0CL3"
      },
      "execution_count": 6,
      "outputs": []
    },
    {
      "cell_type": "code",
      "execution_count": 7,
      "metadata": {
        "id": "xu7cmD7Fy79I"
      },
      "outputs": [],
      "source": [
        "# Give the path to the saved model here\n",
        "loaded_model = torch.load(\"/content/drive/MyDrive/cnn_model.pt\", map_location=device)\n",
        "# Give the test path here\n",
        "test_path = \"./test\"\n",
        "\n",
        "def get_img_tensor(image_path, target_size = (960, 720)):\n",
        "    image = cv2.imread(image_path)\n",
        "    image = cv2.cvtColor(image, cv2.COLOR_BGR2RGB)\n",
        "    image = cv2.resize(image, target_size)\n",
        "    transform = transforms.Compose([transforms.ToTensor()])\n",
        "    tensor = transform(image)\n",
        "    return tensor\n",
        "\n",
        "def get_test_dataloader(test_directory):\n",
        "    test_img_tensors = []\n",
        "    for filename in os.listdir(test_directory):\n",
        "        image_path = os.path.join(test_directory, filename)\n",
        "        tensor = get_img_tensor(image_path)\n",
        "        if filename[0] == 'A':\n",
        "            valid = 1\n",
        "        else:\n",
        "            valid = 0\n",
        "        test_img_tensors.append((tensor, valid))\n",
        "\n",
        "    test_dataset = torch.utils.data.Subset(test_img_tensors, list(range(0, len(test_img_tensors))))\n",
        "    test_data_loader = torch.utils.data.DataLoader(test_dataset, batch_size=4, shuffle=False)\n",
        "    return test_data_loader\n",
        "\n",
        "def get_test_output(test_directory):\n",
        "    test_data_loader = get_test_dataloader(test_directory)\n",
        "    actual_labels = []\n",
        "    predicted_labels = []\n",
        "    with torch.no_grad():\n",
        "        loaded_model.eval()\n",
        "        for images, labels in test_data_loader:\n",
        "            images = images.to(device)\n",
        "            labels = labels.to(device)\n",
        "            outputs = loaded_model(images)\n",
        "            predicted = torch.argmax(outputs, dim=1)\n",
        "            actual_labels = actual_labels + [label.item() for label in labels]\n",
        "            predicted_labels = predicted_labels + [label.item() for label in predicted]\n",
        "    print(classification_report(actual_labels, predicted_labels))\n",
        "    return actual_labels, predicted_labels"
      ]
    },
    {
      "cell_type": "code",
      "execution_count": 8,
      "metadata": {
        "colab": {
          "base_uri": "https://localhost:8080/"
        },
        "id": "dH255Jbey79I",
        "outputId": "8888064a-d8f7-4e40-ede9-e56f9ceb4e7d"
      },
      "outputs": [
        {
          "output_type": "stream",
          "name": "stdout",
          "text": [
            "              precision    recall  f1-score   support\n",
            "\n",
            "           0       1.00      0.97      0.99        35\n",
            "           1       0.98      1.00      0.99        50\n",
            "\n",
            "    accuracy                           0.99        85\n",
            "   macro avg       0.99      0.99      0.99        85\n",
            "weighted avg       0.99      0.99      0.99        85\n",
            "\n"
          ]
        }
      ],
      "source": [
        "actual_labels, predicted_labels = get_test_output(test_path)"
      ]
    },
    {
      "cell_type": "code",
      "execution_count": 9,
      "metadata": {
        "colab": {
          "base_uri": "https://localhost:8080/",
          "height": 499
        },
        "id": "wcARMl-Gy79J",
        "outputId": "4b47ff79-4835-45c2-83e7-d625af03f21a"
      },
      "outputs": [
        {
          "output_type": "display_data",
          "data": {
            "text/plain": [
              "<Figure size 500x400 with 2 Axes>"
            ],
            "image/png": "[encoded data removed]"
          },
          "metadata": {}
        },
        {
          "output_type": "stream",
          "name": "stdout",
          "text": [
            "Positive - Approved, Negative - Counterfiet\n",
            "True Negative: 34\n",
            "False Positive: 1\n",
            "False Negative: 0\n",
            "True Positive: 50\n"
          ]
        }
      ],
      "source": [
        "def get_confusion_matrix_plot(actual_labels, predicted_labels):\n",
        "    # Create the confusion matrix\n",
        "    cm = confusion_matrix(actual_labels, predicted_labels)\n",
        "\n",
        "    # Plot the confusion matrix\n",
        "    plt.figure(figsize=(5, 4))\n",
        "    sns.heatmap(cm, annot=True, fmt='d', cmap='Blues', xticklabels=['0', '1'], yticklabels=['0', '1'])\n",
        "    plt.xlabel('Predicted')\n",
        "    plt.ylabel('Actual')\n",
        "    plt.title('Confusion Matrix')\n",
        "    plt.show()\n",
        "    tn, fp, fn, tp = confusion_matrix(actual_labels, predicted_labels, labels=[0, 1]).ravel()\n",
        "    print(\"Positive - Approved, Negative - Counterfiet\")\n",
        "    print(\"True Negative:\", tn)\n",
        "    print(\"False Positive:\", fp)\n",
        "    print(\"False Negative:\", fn)\n",
        "    print(\"True Positive:\", tp)\n",
        "get_confusion_matrix_plot(actual_labels, predicted_labels)"
      ]
    },
    {
      "cell_type": "code",
      "source": [],
      "metadata": {
        "id": "2k2YKH57zh0y"
      },
      "execution_count": null,
      "outputs": []
    }
  ],
  "metadata": {
    "kernelspec": {
      "display_name": "Python 3",
      "name": "python3"
    },
    "language_info": {
      "codemirror_mode": {
        "name": "ipython",
        "version": 3
      },
      "file_extension": ".py",
      "mimetype": "text/x-python",
      "name": "python",
      "nbconvert_exporter": "python",
      "pygments_lexer": "ipython3",
      "version": "3.11.7"
    },
    "colab": {
      "provenance": []
    }
  },
  "nbformat": 4,
  "nbformat_minor": 0
}